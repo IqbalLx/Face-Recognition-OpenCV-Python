{
 "cells": [
  {
   "cell_type": "markdown",
   "metadata": {},
   "source": [
    "# Import Module"
   ]
  },
  {
   "cell_type": "code",
   "execution_count": 1,
   "metadata": {},
   "outputs": [],
   "source": [
    "import cv2\n",
    "import os\n",
    "import numpy as np"
   ]
  },
  {
   "cell_type": "markdown",
   "metadata": {},
   "source": [
    "# Prepare Train Data"
   ]
  },
  {
   "cell_type": "markdown",
   "metadata": {},
   "source": [
    "- Create folder yang menampung data wajah dan model recognizer\n",
    "- Load Cascade classifiernya\n",
    "- Stream camera\n",
    "- Tambah code untuk deteksi wajah\n",
    "- Save wajah untuk dijadikan data training"
   ]
  },
  {
   "cell_type": "code",
   "execution_count": 2,
   "metadata": {},
   "outputs": [],
   "source": [
    "folder_name = 'faces data'                                         # Prepare new folder do PC kalian\n",
    "os.mkdir(folder_name)\n",
    "os.mkdir('recognizer')"
   ]
  },
  {
   "cell_type": "code",
   "execution_count": 3,
   "metadata": {},
   "outputs": [],
   "source": [
    "face_cascade_file = 'Cascade Classifier/face-detect.xml'\n",
    "face_cascade = cv2.CascadeClassifier(face_cascade_file)            # Load cascade classifiernya"
   ]
  },
  {
   "cell_type": "code",
   "execution_count": 4,
   "metadata": {},
   "outputs": [
    {
     "name": "stdout",
     "output_type": "stream",
     "text": [
      "[INFO] 5 IMAGE CAPTURED!\n"
     ]
    }
   ],
   "source": [
    "total_images = 5\n",
    "counter = 1\n",
    "ids = 1\n",
    "\n",
    "cam = cv2.VideoCapture(0)                                           # Akses Kamera\n",
    "while True:\n",
    "    ret, frame = cam.read()                                         # Membaca setiap frame dari stream kamera\n",
    "    frame_copy = frame.copy()                                       # Copy frame\n",
    "    gray = cv2.cvtColor(frame, cv2.COLOR_BGR2GRAY)                  # Mengubah mode BGR ke GRAY (hitam putih)\n",
    "    \n",
    "                                                                    # Proses pencarian wajah \n",
    "    faces = face_cascade.detectMultiScale(gray, 1.3, 3)             # <cascade_file>.detectMultiScale(<frame>, <scale_factor>, <min_neighbors>)\n",
    "    for x, y, w, h in faces:                                        # Looping semua wajah yang terdeteksi\n",
    "        cv2.rectangle(frame, (x, y), (x+w, y+h), (0, 255, 0), 3)    # Gambar box untuk setiap wajah\n",
    "        \n",
    "        if cv2.waitKey(1) & 0xff == ord('c'):                       # Menunggu tombol c di tekan\n",
    "            roi_face = frame_copy[y:y+h, x:x+w]                     # region of interest dari frame\n",
    "            cv2.imwrite(f'{folder_name}/people.{ids}.{counter}.jpg',# write region wajah\n",
    "                        roi_face)\n",
    "            \n",
    "            counter += 1\n",
    "            if counter > total_images:\n",
    "                print(f'[INFO] {total_images} IMAGE CAPTURED!')     # info done proses\n",
    "        \n",
    "    cv2.imshow('Face Detect Video', frame)                          # Jendela untuk menampilkan hasil\n",
    "    \n",
    "    if cv2.waitKey(1) & 0xff == ord('x'):                           # Exit dengan tombol x\n",
    "        break\n",
    "        \n",
    "cam.release()                                                       # Menyudahi akses kamera\n",
    "cv2.destroyAllWindows()                                             # Menutup jendela"
   ]
  },
  {
   "cell_type": "markdown",
   "metadata": {},
   "source": [
    "# Train Recognizer"
   ]
  },
  {
   "cell_type": "markdown",
   "metadata": {},
   "source": [
    "- Create object recognizernya\n",
    "- List semua path data training\n",
    "- Loopinng semua path dan store ID dan array datanya dalam list\n",
    "- Train recognizer berdasar list dari ID dan array"
   ]
  },
  {
   "cell_type": "code",
   "execution_count": 5,
   "metadata": {},
   "outputs": [],
   "source": [
    "recognizer = cv2.face.LBPHFaceRecognizer_create()                    # Create recognizer object"
   ]
  },
  {
   "cell_type": "code",
   "execution_count": 6,
   "metadata": {},
   "outputs": [
    {
     "name": "stdout",
     "output_type": "stream",
     "text": [
      "['people', '1', '1', 'jpg']\n",
      "['people', '1', '2', 'jpg']\n",
      "['people', '1', '3', 'jpg']\n",
      "['people', '1', '4', 'jpg']\n",
      "['people', '1', '5', 'jpg']\n"
     ]
    }
   ],
   "source": [
    "images = os.listdir(folder_name)                                    # list semua path data wajah pada folder train data\n",
    "\n",
    "image_arrays = []                                                   # Containes semua array data wajah\n",
    "image_ids = []                                                      # Container semua ID data wajah\n",
    "for image_path in images:                                           # Looping semua path data wajah\n",
    "    splitted_path = image_path.split('.')\n",
    "    print(splitted_path)\n",
    "    image_id = int(splitted_path[1])                                # Ambil ID data wajah\n",
    "    \n",
    "    image = cv2.imread(os.path.join(folder_name, image_path))\n",
    "    image = cv2.cvtColor(image, cv2.COLOR_BGR2GRAY)\n",
    "    \n",
    "    image_array = np.array(image, 'uint8')                          # Ambil array data wajah\n",
    "    \n",
    "    image_arrays.append(image_array)                                # Store array data wajah ke list/container\n",
    "    image_ids.append(image_id)                                      # Store ID data wajah ke list/container"
   ]
  },
  {
   "cell_type": "code",
   "execution_count": 7,
   "metadata": {},
   "outputs": [
    {
     "name": "stdout",
     "output_type": "stream",
     "text": [
      "[INFO] TRAIN RECOGNIZER SUCCESS!\n"
     ]
    }
   ],
   "source": [
    "recognizer.train(image_arrays, np.array(image_ids))                 # Train recognizer\n",
    "recognizer.save('recognizer/faces_data.yml')                        # Save model recognizer \n",
    "print('[INFO] TRAIN RECOGNIZER SUCCESS!')"
   ]
  },
  {
   "cell_type": "markdown",
   "metadata": {},
   "source": [
    "# Test Recognizer"
   ]
  },
  {
   "cell_type": "markdown",
   "metadata": {},
   "source": [
    "- Load model recognizernya\n",
    "- Stream camera\n",
    "- Tambahkan code untuk deteksi wajah\n",
    "- Tambahkan code untuk prediksi wajah"
   ]
  },
  {
   "cell_type": "code",
   "execution_count": 8,
   "metadata": {},
   "outputs": [],
   "source": [
    "recognizer.read('recognizer/faces_data.yml')                        # Load recognizer      \n",
    "font = cv2.FONT_HERSHEY_SIMPLEX                                     # Specify jenis font dari OpenCV"
   ]
  },
  {
   "cell_type": "code",
   "execution_count": 11,
   "metadata": {},
   "outputs": [],
   "source": [
    "known_names = ['Iqbal Maulana']                                     # List untuk nama yang ada di model\n",
    "\n",
    "cam = cv2.VideoCapture(0)                                           # Akses Kamera\n",
    "while True:\n",
    "    ret, frame = cam.read()                                         # Membaca setiap frame dari stream kamera \n",
    "    gray = cv2.cvtColor(frame, cv2.COLOR_BGR2GRAY)                  # Mengubah mode BGR ke GRAY (hitam putih)\n",
    "    \n",
    "                                                                    # Proses pencarian wajah \n",
    "    faces = face_cascade.detectMultiScale(gray, 1.3, 3)             # <cascade_file>.detectMultiScale(<frame>, <scale_factor>, <min_neighbors>)\n",
    "    for x, y, w, h in faces:                                        # Looping semua wajah yang terdeteksi\n",
    "        cv2.rectangle(frame, (x, y), (x+w, y+h), (0, 255, 0), 3)    # Gambar box untuk setiap wajah\n",
    "        \n",
    "        roi_gray = gray[y:y+h, x:x+w]\n",
    "        ids, dist = recognizer.predict(roi_gray)                     # Prediksi wajah siapoa\n",
    "        cv2.putText(frame, f'{known_names[ids-1]} {round(dist, 2)}', \n",
    "                    (x-20, y-20), font, 1 ,(255, 255, 0), 3)         # Menaruh text pada frame\n",
    "\n",
    "    \n",
    "    cv2.imshow('Face Recognition Video', frame)                     # Jendela untuk menampilkan hasil\n",
    "    \n",
    "    if cv2.waitKey(1) & 0xff == ord('x'):                           # Exit dengan tombol x\n",
    "        break\n",
    "\n",
    "cam.release()                                                       # Menyudahi akses kamera\n",
    "cv2.destroyAllWindows()                                             # Menutup jendela"
   ]
  },
  {
   "cell_type": "code",
   "execution_count": 12,
   "metadata": {},
   "outputs": [],
   "source": [
    "cam.release()   "
   ]
  }
 ],
 "metadata": {
  "kernelspec": {
   "display_name": "Python 3",
   "language": "python",
   "name": "python3"
  },
  "language_info": {
   "codemirror_mode": {
    "name": "ipython",
    "version": 3
   },
   "file_extension": ".py",
   "mimetype": "text/x-python",
   "name": "python",
   "nbconvert_exporter": "python",
   "pygments_lexer": "ipython3",
   "version": "3.7.3"
  }
 },
 "nbformat": 4,
 "nbformat_minor": 2
}
